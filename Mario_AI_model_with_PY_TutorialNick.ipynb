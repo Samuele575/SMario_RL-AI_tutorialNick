{
  "nbformat": 4,
  "nbformat_minor": 0,
  "metadata": {
    "colab": {
      "provenance": [],
      "authorship_tag": "ABX9TyOod/yxtJwxL2XOE1iwJqAC",
      "include_colab_link": true
    },
    "kernelspec": {
      "name": "python3",
      "display_name": "Python 3"
    },
    "language_info": {
      "name": "python"
    }
  },
  "cells": [
    {
      "cell_type": "markdown",
      "metadata": {
        "id": "view-in-github",
        "colab_type": "text"
      },
      "source": [
        "<a href=\"https://colab.research.google.com/github/Samuele575/SMario_RL-AI_tutorialNick/blob/main/Mario_AI_model_with_PY_TutorialNick.ipynb\" target=\"_parent\"><img src=\"https://colab.research.google.com/assets/colab-badge.svg\" alt=\"Open In Colab\"/></a>"
      ]
    },
    {
      "cell_type": "markdown",
      "source": [
        "# SUPER MARIO AI training model\n",
        "\n",
        "Setup Mario in reading command in Python"
      ],
      "metadata": {
        "id": "tjCud6eRncaD"
      }
    },
    {
      "cell_type": "code",
      "execution_count": null,
      "metadata": {
        "id": "Th6FDV7gnbUq"
      },
      "outputs": [],
      "source": [
        "!pip install gym_super_mario_bros==7.3.0 nes_py"
      ]
    },
    {
      "cell_type": "code",
      "source": [
        "# Import the game\n",
        "import gym_super_mario_bros\n",
        "#import JoypadSpace\n",
        "from nes_py.wrappers import JoypadSpace\n",
        "#import the SIMPLIFIED controls\n",
        "from gym_super_mario_bros.actions import SIMPLE_MOVEMENT"
      ],
      "metadata": {
        "id": "-BkOwS2vn4-S"
      },
      "execution_count": null,
      "outputs": []
    },
    {
      "cell_type": "code",
      "source": [
        "# Setup game\n",
        "env = gym_super_mario_bros.make('SuperMarioBros-v0')\n",
        "env = JoypadSpace(env, SIMPLE_MOVEMENT)"
      ],
      "metadata": {
        "id": "p-ale0iboZUQ"
      },
      "execution_count": null,
      "outputs": []
    },
    {
      "cell_type": "code",
      "source": [
        "# Create a flag - restart or not\n",
        "done = True\n",
        "# Loop through each frame in the game\n",
        "for step in range(100000):\n",
        "  if done:\n",
        "    # Start the game\n",
        "    env.restart()\n",
        "  # Do random action\n",
        "  # (so:\n",
        "  #     + state  -> is the frame of the game AFTER the action\n",
        "  #     + reward -> POINT of the \"maximization_function\", this func is MAX when MARIO is the further to the right\n",
        "  #     + done   -> Boolean saing IF the game is ended or is still going\n",
        "  #     + info   -> metadata\n",
        "  #)\n",
        "  state, reward, done, info = env.step(env.action_space.sample())\n",
        "  # Show game on the screen\n",
        "  env.render()\n",
        "# Close the game\n",
        "env.close()"
      ],
      "metadata": {
        "id": "gfLDNQ5Wo7i1"
      },
      "execution_count": null,
      "outputs": []
    },
    {
      "cell_type": "markdown",
      "source": [
        "## Pre Process the env\n"
      ],
      "metadata": {
        "id": "CUVaFMawrs1c"
      }
    },
    {
      "cell_type": "code",
      "source": [
        "# Install PyTorch\n",
        "!pip install torch trochvision"
      ],
      "metadata": {
        "id": "RTeBgo7bsXCr"
      },
      "execution_count": null,
      "outputs": []
    },
    {
      "cell_type": "code",
      "source": [
        "# Install Stable Baseline3 for RL stuff\n",
        "!pip install stable-baselines3[extra]"
      ],
      "metadata": {
        "id": "Y0ls2-XDtVwE"
      },
      "execution_count": null,
      "outputs": []
    },
    {
      "cell_type": "code",
      "source": [
        "# import Frame Stacker Wrapper and GrayScale Wrapper\n",
        "import gym.wrappers import GrayScaleObservation\n",
        "# import Vectorization Wrappers\n",
        "import stable_baselines3.common.vec_env import VecFrameStack, DummyVecEnv\n",
        "# import Matplotlib - to show the implat of frame stacking\n",
        "from matplotlib import pyplot as plt"
      ],
      "metadata": {
        "id": "67KNGI4zr77j"
      },
      "execution_count": null,
      "outputs": []
    },
    {
      "cell_type": "code",
      "source": [
        "# 1. Create the base env\n",
        "env = gym_super_mario_bros.make('SuperMarioBros-v0')\n",
        "# 2. Simplify the controls\n",
        "env = JoypadSpace(env, SIMPLE_MOVEMENT)\n",
        "# 3. Greyscale\n",
        "env = GrayScaleObservation(env, keep_dim=True)\n",
        "# 4. Wrap inside the Dummy Env\n",
        "env = DummyVecEnv([lambda: env])\n",
        "# 5. Stack the frames\n",
        "env = VecFrameStack(env, 4, channels_order='last')"
      ],
      "metadata": {
        "id": "5zPViNwDuYLS"
      },
      "execution_count": null,
      "outputs": []
    },
    {
      "cell_type": "markdown",
      "source": [
        "## Train the RL Model\n",
        "\n",
        "Reinforcement Learning is a practice based on 4 element:\n",
        "\n",
        "- Agent: the \"element\" controlled by the IA\n",
        "- Actions: the movement the AI can do\n",
        "- Environment: the set where the Agent is moving using action and thus changing sequentialy\n",
        "- Reword: a number associated with the Action expressing the \"goodness\" of the move"
      ],
      "metadata": {
        "id": "BNhT0stIwpPt"
      }
    },
    {
      "cell_type": "code",
      "source": [
        "# Import os for file path management\n",
        "import os\n",
        "# Import PPO for algos\n",
        "from stable_baselines3 import PPO\n",
        "#import Base Callback for saving models\n",
        "from stable_baselines3.common.callbacks import BaseCallback"
      ],
      "metadata": {
        "id": "DKkJpxP8u1LC"
      },
      "execution_count": null,
      "outputs": []
    },
    {
      "cell_type": "code",
      "source": [
        "class TrainAndLoggingCallback(BaseCallback):\n",
        "\n",
        "    def __init__(self, check_freq, save_path, verbose=1):\n",
        "        super(TrainAndLoggingCallback, self).__init__(verbose)\n",
        "        self.check_freq = check_freq\n",
        "        self.save_path = save_path\n",
        "\n",
        "    def _init_callback(self):\n",
        "        if self.save_path is not None:\n",
        "            os.makedirs(self.save_path, exist_ok=True)\n",
        "\n",
        "    def _on_step(self):\n",
        "        if self.n_calls % self.check_freq == 0:\n",
        "            model_path = os.path.join(self.save_path, 'best_model_{}'.format(self.n_calls))\n",
        "            self.model.save(model_path)\n",
        "\n",
        "        return True"
      ],
      "metadata": {
        "id": "0fV1VFZayL6i"
      },
      "execution_count": null,
      "outputs": []
    },
    {
      "cell_type": "code",
      "source": [
        "CHECKPOINT_DIR = './train/'\n",
        "LOG_DIR = './logs/'"
      ],
      "metadata": {
        "id": "7b6myoUbycUG"
      },
      "execution_count": null,
      "outputs": []
    },
    {
      "cell_type": "code",
      "source": [
        "# Setup model saving callback\n",
        "callback = TrainAndLoggingCallback(check_freq=10000, save_path=CHECKPOINT_DIR)"
      ],
      "metadata": {
        "id": "_HKo8FG2yhPR"
      },
      "execution_count": null,
      "outputs": []
    },
    {
      "cell_type": "code",
      "source": [
        "# This is the AI model started\n",
        "model = PPO('CnnPolicy', env, verbose=1, tensorboard_log=LOG_DIR, learning_rate=0.000001,\n",
        "            n_steps=512)"
      ],
      "metadata": {
        "id": "eT7Ue8h6yldx"
      },
      "execution_count": null,
      "outputs": []
    },
    {
      "cell_type": "code",
      "source": [
        "# Train the AI model, this is where the AI model starts to learn\n",
        "model.learn(total_timesteps=1000000, callback=callback)"
      ],
      "metadata": {
        "id": "HVN5GJf5ynDY"
      },
      "execution_count": null,
      "outputs": []
    },
    {
      "cell_type": "code",
      "source": [
        "model.save('thisisatestmodel')"
      ],
      "metadata": {
        "id": "-yIF_19syoq0"
      },
      "execution_count": null,
      "outputs": []
    },
    {
      "cell_type": "markdown",
      "source": [
        "## Test it Out"
      ],
      "metadata": {
        "id": "sy2t0ear0-cL"
      }
    },
    {
      "cell_type": "code",
      "source": [
        "# Load model\n",
        "model = PPO.load('./train/best_model_1000000')"
      ],
      "metadata": {
        "id": "1qofLNqB1BGH"
      },
      "execution_count": null,
      "outputs": []
    },
    {
      "cell_type": "code",
      "source": [
        "state = env.reset()"
      ],
      "metadata": {
        "id": "GFMWHu731C3J"
      },
      "execution_count": null,
      "outputs": []
    },
    {
      "cell_type": "code",
      "source": [
        "# Start the game\n",
        "state = env.reset()\n",
        "# Loop through the game\n",
        "while True:\n",
        "\n",
        "    action, _ = model.predict(state)\n",
        "    state, reward, done, info = env.step(action)\n",
        "    env.render()"
      ],
      "metadata": {
        "id": "ZbDfPbOB1Eu-"
      },
      "execution_count": null,
      "outputs": []
    }
  ]
}